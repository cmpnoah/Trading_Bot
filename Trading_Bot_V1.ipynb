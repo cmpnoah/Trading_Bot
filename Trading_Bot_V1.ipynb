{
 "cells": [
  {
   "cell_type": "markdown",
   "metadata": {},
   "source": [
    "# Start of the Trading Bot"
   ]
  },
  {
   "cell_type": "code",
   "execution_count": 27,
   "metadata": {},
   "outputs": [],
   "source": [
    "Alpaca_Endpoint = \"https://paper-api.alpaca.markets\"\n",
    "Alpaca_key = \"PKPLATQGQVJ37VAGTYVL\"\n",
    "Alpaca_secret_API = \"KVfu6aQcoZupL0r29keHbHguvhXljMCqEdZqS11M\""
   ]
  },
  {
   "cell_type": "code",
   "execution_count": 28,
   "metadata": {},
   "outputs": [],
   "source": [
    "from alpaca_trade_api import REST  # For REST API\n",
    "from alpaca_trade_api.stream import Stream  # For Streaming data\n"
   ]
  },
  {
   "cell_type": "code",
   "execution_count": 29,
   "metadata": {},
   "outputs": [],
   "source": [
    "from alpaca.trading.client import TradingClient\n",
    "from alpaca.trading.enums import OrderSide, TimeInForce\n",
    "from alpaca.trading.requests import MarketOrderRequest #Marketorder, just orders at current market price. They also have limit order, stop limit, ... \n",
    "from alpaca.trading.stream import TradingStream\n",
    "import config"
   ]
  },
  {
   "cell_type": "code",
   "execution_count": 30,
   "metadata": {},
   "outputs": [
    {
     "name": "stdout",
     "output_type": "stream",
     "text": [
      "id                            4304cf94-628b-4c50-9251-39ae8414d25f\n",
      "account_number                PA3E9NDD02DS\n",
      "status                        ACTIVE\n",
      "crypto_status                 ACTIVE\n",
      "currency                      USD\n",
      "buying_power                  150079\n",
      "regt_buying_power             150079\n",
      "daytrading_buying_power       0\n",
      "non_marginable_buying_power   73039.5\n",
      "cash                          50172\n",
      "accrued_fees                  0\n",
      "pending_transfer_out          None\n",
      "pending_transfer_in           0\n",
      "portfolio_value               99907\n",
      "pattern_day_trader            False\n",
      "trading_blocked               False\n",
      "transfers_blocked             False\n",
      "account_blocked               False\n",
      "created_at                    2024-02-05 14:53:33.645008+00:00\n",
      "trade_suspended_by_user       False\n",
      "multiplier                    2\n",
      "shorting_enabled              True\n",
      "equity                        99907\n",
      "last_equity                   99982\n",
      "long_market_value             49735\n",
      "short_market_value            0\n",
      "initial_margin                24867.5\n",
      "maintenance_margin            14920.5\n",
      "last_maintenance_margin       14943\n",
      "sma                           75086\n",
      "daytrade_count                0\n"
     ]
    }
   ],
   "source": [
    "# If we do not want to trade paper we can set the parameter to false\n",
    "client = TradingClient(Alpaca_key, Alpaca_secret_API, paper = True)\n",
    "account = dict(client.get_account())\n",
    "for k, v in account.items():\n",
    "    print(f\"{k:30}{v}\")"
   ]
  },
  {
   "cell_type": "markdown",
   "metadata": {},
   "source": [
    "Set up the Order details which we can later feed in the actual order. Here you just define all the order details"
   ]
  },
  {
   "cell_type": "code",
   "execution_count": 31,
   "metadata": {},
   "outputs": [],
   "source": [
    "order_details = MarketOrderRequest(\n",
    "    symbol = \"SPY\", # Decide which symbol you want to buy\n",
    "    qty = 100, # Decide how much you want to buy\n",
    "    side = OrderSide.BUY, # Decide if you want to go long or short\n",
    "    time_in_force = TimeInForce.DAY\n",
    ")"
   ]
  },
  {
   "cell_type": "code",
   "execution_count": 32,
   "metadata": {},
   "outputs": [],
   "source": [
    "order = client.submit_order(order_data=order_details)\n",
    "\n",
    "# To get a message when we buy something we need to run the trades variable as well\n",
    "trades = TradingStream(Alpaca_key, Alpaca_secret_API, paper=True)\n",
    "\n",
    "# As it is a websocket we have to define a asynchronic function that prints out the message \n",
    "async def trade_status(data):\n",
    "    print(data)"
   ]
  },
  {
   "cell_type": "markdown",
   "metadata": {},
   "source": [
    "Run the client"
   ]
  },
  {
   "cell_type": "code",
   "execution_count": 33,
   "metadata": {},
   "outputs": [
    {
     "ename": "RuntimeError",
     "evalue": "asyncio.run() cannot be called from a running event loop",
     "output_type": "error",
     "traceback": [
      "\u001b[0;31m---------------------------------------------------------------------------\u001b[0m",
      "\u001b[0;31mRuntimeError\u001b[0m                              Traceback (most recent call last)",
      "\u001b[1;32m/Users/noahcampana/Desktop/Studium/Projects/Trading_Bot/Trading_Bot_V1.ipynb Cell 10\u001b[0m line \u001b[0;36m5\n\u001b[1;32m      <a href='vscode-notebook-cell:/Users/noahcampana/Desktop/Studium/Projects/Trading_Bot/Trading_Bot_V1.ipynb#X13sZmlsZQ%3D%3D?line=1'>2</a>\u001b[0m trades\u001b[39m.\u001b[39msubscribe_trade_updates(trade_status)\n\u001b[1;32m      <a href='vscode-notebook-cell:/Users/noahcampana/Desktop/Studium/Projects/Trading_Bot/Trading_Bot_V1.ipynb#X13sZmlsZQ%3D%3D?line=3'>4</a>\u001b[0m \u001b[39m# Run the client and buy the paper\u001b[39;00m\n\u001b[0;32m----> <a href='vscode-notebook-cell:/Users/noahcampana/Desktop/Studium/Projects/Trading_Bot/Trading_Bot_V1.ipynb#X13sZmlsZQ%3D%3D?line=4'>5</a>\u001b[0m trades\u001b[39m.\u001b[39;49mrun()\n",
      "File \u001b[0;32m~/Library/Python/3.9/lib/python/site-packages/alpaca/trading/stream.py:209\u001b[0m, in \u001b[0;36mTradingStream.run\u001b[0;34m(self)\u001b[0m\n\u001b[1;32m    207\u001b[0m \u001b[39m\u001b[39m\u001b[39m\"\"\"Starts up the websocket connection's event loop\"\"\"\u001b[39;00m\n\u001b[1;32m    208\u001b[0m \u001b[39mtry\u001b[39;00m:\n\u001b[0;32m--> 209\u001b[0m     asyncio\u001b[39m.\u001b[39;49mrun(\u001b[39mself\u001b[39;49m\u001b[39m.\u001b[39;49m_run_forever())\n\u001b[1;32m    210\u001b[0m \u001b[39mexcept\u001b[39;00m \u001b[39mKeyboardInterrupt\u001b[39;00m:\n\u001b[1;32m    211\u001b[0m     \u001b[39mprint\u001b[39m(\u001b[39m\"\u001b[39m\u001b[39mkeyboard interrupt, bye\u001b[39m\u001b[39m\"\u001b[39m)\n",
      "File \u001b[0;32m/Library/Developer/CommandLineTools/Library/Frameworks/Python3.framework/Versions/3.9/lib/python3.9/asyncio/runners.py:33\u001b[0m, in \u001b[0;36mrun\u001b[0;34m(main, debug)\u001b[0m\n\u001b[1;32m      9\u001b[0m \u001b[39m\u001b[39m\u001b[39m\"\"\"Execute the coroutine and return the result.\u001b[39;00m\n\u001b[1;32m     10\u001b[0m \n\u001b[1;32m     11\u001b[0m \u001b[39mThis function runs the passed coroutine, taking care of\u001b[39;00m\n\u001b[0;32m   (...)\u001b[0m\n\u001b[1;32m     30\u001b[0m \u001b[39m    asyncio.run(main())\u001b[39;00m\n\u001b[1;32m     31\u001b[0m \u001b[39m\"\"\"\u001b[39;00m\n\u001b[1;32m     32\u001b[0m \u001b[39mif\u001b[39;00m events\u001b[39m.\u001b[39m_get_running_loop() \u001b[39mis\u001b[39;00m \u001b[39mnot\u001b[39;00m \u001b[39mNone\u001b[39;00m:\n\u001b[0;32m---> 33\u001b[0m     \u001b[39mraise\u001b[39;00m \u001b[39mRuntimeError\u001b[39;00m(\n\u001b[1;32m     34\u001b[0m         \u001b[39m\"\u001b[39m\u001b[39masyncio.run() cannot be called from a running event loop\u001b[39m\u001b[39m\"\u001b[39m)\n\u001b[1;32m     36\u001b[0m \u001b[39mif\u001b[39;00m \u001b[39mnot\u001b[39;00m coroutines\u001b[39m.\u001b[39miscoroutine(main):\n\u001b[1;32m     37\u001b[0m     \u001b[39mraise\u001b[39;00m \u001b[39mValueError\u001b[39;00m(\u001b[39m\"\u001b[39m\u001b[39ma coroutine was expected, got \u001b[39m\u001b[39m{!r}\u001b[39;00m\u001b[39m\"\u001b[39m\u001b[39m.\u001b[39mformat(main))\n",
      "\u001b[0;31mRuntimeError\u001b[0m: asyncio.run() cannot be called from a running event loop"
     ]
    }
   ],
   "source": [
    "# Subscribe to the trade to get the message what happens\n",
    "trades.subscribe_trade_updates(trade_status)\n",
    "\n",
    "# Run the client and buy the paper\n",
    "trades.run()"
   ]
  },
  {
   "cell_type": "code",
   "execution_count": null,
   "metadata": {},
   "outputs": [],
   "source": [
    "# Get an overview of all positions we have in our current portfolio\n",
    "assets = [asset for asset in client.get_all_positions()]\n",
    "\n",
    "positions = [(asset.symbol, asset.qty, asset.current_price) for asset in assets]\n",
    "\n",
    "# Create a table for a nice little overview\n",
    "print(\"Positions\")\n",
    "print(f\"{'Symbol':9}{'Qty':>4}{'Value':>15}\")\n",
    "print(\"-\" * 28)\n",
    "for position in positions:\n",
    "    print(f\"{position[0]:9}{position[1]:>4}{float(position[1])*float(position[2]):>15.2f}\")"
   ]
  },
  {
   "cell_type": "code",
   "execution_count": 36,
   "metadata": {},
   "outputs": [
    {
     "data": {
      "text/plain": [
       "[{   'body': {   'asset_class': <AssetClass.US_EQUITY: 'us_equity'>,\n",
       "                 'asset_id': UUID('b28f4066-5c6d-479b-a2af-85dc1a8f16fb'),\n",
       "                 'canceled_at': None,\n",
       "                 'client_order_id': 'b0163094-1c27-4c93-b0d6-cfa552df6bf6',\n",
       "                 'created_at': datetime.datetime(2024, 2, 8, 11, 53, 39, 842824, tzinfo=TzInfo(UTC)),\n",
       "                 'expired_at': None,\n",
       "                 'extended_hours': False,\n",
       "                 'failed_at': None,\n",
       "                 'filled_at': None,\n",
       "                 'filled_avg_price': None,\n",
       "                 'filled_qty': '0',\n",
       "                 'hwm': None,\n",
       "                 'id': UUID('676f5ded-1f03-4a70-9ee7-808729a2b143'),\n",
       "                 'legs': None,\n",
       "                 'limit_price': None,\n",
       "                 'notional': None,\n",
       "                 'order_class': <OrderClass.SIMPLE: 'simple'>,\n",
       "                 'order_type': <OrderType.MARKET: 'market'>,\n",
       "                 'qty': '100',\n",
       "                 'replaced_at': None,\n",
       "                 'replaced_by': None,\n",
       "                 'replaces': None,\n",
       "                 'side': <OrderSide.SELL: 'sell'>,\n",
       "                 'status': <OrderStatus.PENDING_NEW: 'pending_new'>,\n",
       "                 'stop_price': None,\n",
       "                 'submitted_at': datetime.datetime(2024, 2, 8, 11, 53, 39, 842458, tzinfo=TzInfo(UTC)),\n",
       "                 'symbol': 'SPY',\n",
       "                 'time_in_force': <TimeInForce.DAY: 'day'>,\n",
       "                 'trail_percent': None,\n",
       "                 'trail_price': None,\n",
       "                 'type': <OrderType.MARKET: 'market'>,\n",
       "                 'updated_at': datetime.datetime(2024, 2, 8, 11, 53, 39, 842862, tzinfo=TzInfo(UTC))},\n",
       "     'order_id': None,\n",
       "     'status': 200,\n",
       "     'symbol': 'SPY'}]"
      ]
     },
     "execution_count": 36,
     "metadata": {},
     "output_type": "execute_result"
    }
   ],
   "source": [
    "# Close all positions and cancel outstanding ones\n",
    "\n",
    "client.close_all_positions(cancel_orders=True)"
   ]
  },
  {
   "cell_type": "code",
   "execution_count": null,
   "metadata": {},
   "outputs": [],
   "source": []
  }
 ],
 "metadata": {
  "kernelspec": {
   "display_name": "Python 3",
   "language": "python",
   "name": "python3"
  },
  "language_info": {
   "codemirror_mode": {
    "name": "ipython",
    "version": 3
   },
   "file_extension": ".py",
   "mimetype": "text/x-python",
   "name": "python",
   "nbconvert_exporter": "python",
   "pygments_lexer": "ipython3",
   "version": "3.9.6"
  }
 },
 "nbformat": 4,
 "nbformat_minor": 2
}
