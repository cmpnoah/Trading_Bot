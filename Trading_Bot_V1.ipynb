{
 "cells": [
  {
   "cell_type": "markdown",
   "metadata": {},
   "source": [
    "# Start of the Trading Bot"
   ]
  },
  {
   "cell_type": "code",
   "execution_count": 2,
   "metadata": {},
   "outputs": [],
   "source": [
    "Alpaca_Endpoint = \"https://paper-api.alpaca.markets\"\n",
    "Alpaca_key = \"PKPLATQGQVJ37VAGTYVL\"\n",
    "Alpaca_secret_API = \"KVfu6aQcoZupL0r29keHbHguvhXljMCqEdZqS11M\""
   ]
  },
  {
   "cell_type": "code",
   "execution_count": 7,
   "metadata": {},
   "outputs": [],
   "source": [
    "from alpaca_trade_api import REST  # For REST API\n",
    "from alpaca_trade_api.stream import Stream  # For Streaming data"
   ]
  },
  {
   "cell_type": "code",
   "execution_count": null,
   "metadata": {},
   "outputs": [],
   "source": [
    "from alpaca_trade import TradingClient\n",
    "from alpaca.trading.enums import OrderSide, TimeInForce\n",
    "from alpaca.trading.requests import MarketOrderRequests #Marketorder, just orders at current market price. They also have limit order, stop limit, ... \n",
    "from alpaca.trading.stream import TradingStream\n",
    "import config"
   ]
  },
  {
   "cell_type": "code",
   "execution_count": null,
   "metadata": {},
   "outputs": [],
   "source": [
    "!pip install alpaca-trade-api"
   ]
  },
  {
   "cell_type": "code",
   "execution_count": null,
   "metadata": {},
   "outputs": [],
   "source": []
  }
 ],
 "metadata": {
  "kernelspec": {
   "display_name": "Python 3",
   "language": "python",
   "name": "python3"
  },
  "language_info": {
   "codemirror_mode": {
    "name": "ipython",
    "version": 3
   },
   "file_extension": ".py",
   "mimetype": "text/x-python",
   "name": "python",
   "nbconvert_exporter": "python",
   "pygments_lexer": "ipython3",
   "version": "3.9.6"
  }
 },
 "nbformat": 4,
 "nbformat_minor": 2
}
